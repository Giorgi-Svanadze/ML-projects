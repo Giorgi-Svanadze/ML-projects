{
  "nbformat": 4,
  "nbformat_minor": 0,
  "metadata": {
    "colab": {
      "provenance": []
    },
    "kernelspec": {
      "name": "python3",
      "display_name": "Python 3"
    },
    "language_info": {
      "name": "python"
    }
  },
  "cells": [
    {
      "cell_type": "markdown",
      "source": [
        "**Linear regression**"
      ],
      "metadata": {
        "id": "C-zCrOiuowW-"
      }
    },
    {
      "cell_type": "markdown",
      "source": [
        "Q1. Load the boston housing data into a dataframe from https://raw.githubusercontent.com/selva86/datasets/master/BostonHousing.csv\n",
        "and display the top 5 rows using head() method of the dataframe"
      ],
      "metadata": {
        "id": "3-54ngU7m3ZI"
      }
    },
    {
      "cell_type": "code",
      "execution_count": null,
      "metadata": {
        "id": "EkZza9wCk5Bh"
      },
      "outputs": [],
      "source": [
        "import pandas as pd\n",
        "import numpy as np\n",
        "import matplotlib.pyplot as plt\n",
        "from sklearn.linear_model import LinearRegression\n",
        "from sklearn.metrics import r2_score\n",
        "df = pd.read_csv(\"https://raw.githubusercontent.com/selva86/datasets/master/BostonHousing.csv\")\n",
        "print(df.head())"
      ]
    },
    {
      "cell_type": "markdown",
      "source": [
        "Q2. Determine and print which single feature produces the best score for linear regression trained on a single feature\n",
        "print out the corresponding score\n",
        "print out the corresponding equation, use the feature name instead of x1 in the equation\n"
      ],
      "metadata": {
        "id": "W0ZcBVa_nDyE"
      }
    },
    {
      "cell_type": "code",
      "source": [
        "best_score = -np.inf\n",
        "best_feature = None\n",
        "best_model = None\n",
        "\n",
        "for feature in df.columns[:-1]:\n",
        "    X = df[[feature]]\n",
        "    y = df[\"medv\"]\n",
        "    model = LinearRegression()\n",
        "    model.fit(X, y)\n",
        "    y_pred = model.predict(X)\n",
        "    score = r2_score(y, y_pred)\n",
        "    if score > best_score:\n",
        "        best_score = score\n",
        "        best_feature = feature\n",
        "        best_model = model\n",
        "print(f\"Best feature for linear regression: {best_feature}\")\n",
        "print(f\"Corresponding R-squared score: {best_score}\")\n",
        "print(f\"Corresponding equation: y = {best_model.coef_[0]} * {best_feature} + {best_model.intercept_}\")"
      ],
      "metadata": {
        "id": "anfelvPik8XN"
      },
      "execution_count": null,
      "outputs": []
    },
    {
      "cell_type": "markdown",
      "source": [
        "Q3. Plot the scatterplot of the best score feature and the corresponding line obtained through regression on the same graph. make the color of the line 'red'"
      ],
      "metadata": {
        "id": "bHQaupd0pCv1"
      }
    },
    {
      "cell_type": "code",
      "source": [
        "plt.scatter(df[best_feature], df[\"medv\"], label=\"Data Points\")\n",
        "plt.plot(df[best_feature], best_model.predict(X), color='red', label=\"Regression Line\")\n",
        "plt.xlabel(best_feature)\n",
        "plt.ylabel(\"medv\")\n",
        "plt.legend()\n",
        "plt.show()"
      ],
      "metadata": {
        "id": "4KA3E-YOpB3G"
      },
      "execution_count": null,
      "outputs": []
    },
    {
      "cell_type": "markdown",
      "source": [
        "Q4. Train a linear regression model using every available feature as an input (aside from the target feature) and output it's score"
      ],
      "metadata": {
        "id": "q--DeKAMoML4"
      }
    },
    {
      "cell_type": "code",
      "source": [
        "X_all = df.drop(\"medv\", axis=1)\n",
        "model_all = LinearRegression()\n",
        "model_all.fit(X_all, y)\n",
        "y_pred_all = model_all.predict(X_all)\n",
        "score_all = r2_score(y, y_pred_all)\n",
        "print(f\"R-squared score using all features: {score_all}\")"
      ],
      "metadata": {
        "id": "7sgOrj8RmEqB"
      },
      "execution_count": null,
      "outputs": []
    },
    {
      "cell_type": "markdown",
      "source": [
        "**Logistic regression**"
      ],
      "metadata": {
        "id": "750oFI6lo0U3"
      }
    },
    {
      "cell_type": "markdown",
      "source": [
        "Download the dataset from https://www.kaggle.com/datasets/amarsharma768/bmd-data and load into a dataframe"
      ],
      "metadata": {
        "id": "cQibOpNSo7Xc"
      }
    },
    {
      "cell_type": "code",
      "source": [
        "import pandas as pd\n",
        "from sklearn.linear_model import LogisticRegression\n",
        "from sklearn.metrics import classification_report\n",
        "from sklearn.model_selection import train_test_split\n",
        "df = pd.read_csv(\"bmd.csv\")"
      ],
      "metadata": {
        "id": "M4lrBF96o3zz"
      },
      "execution_count": null,
      "outputs": []
    },
    {
      "cell_type": "markdown",
      "source": [
        "Call the head method to know what you're working with"
      ],
      "metadata": {
        "id": "eVymbVSmpBXn"
      }
    },
    {
      "cell_type": "code",
      "source": [
        "print(df.head())"
      ],
      "metadata": {
        "id": "iDfLigJWpKsv"
      },
      "execution_count": null,
      "outputs": []
    },
    {
      "cell_type": "markdown",
      "source": [
        "Use up-to 3 explanatory features of your choice and split the data into training and testing; use 20% for testing"
      ],
      "metadata": {
        "id": "kAMrJg1cpK8w"
      }
    },
    {
      "cell_type": "code",
      "source": [
        "features = [\"weight_kg\", \"height_cm\", \"bmd\"]\n",
        "X = df[features]\n",
        "y = df[\"fracture\"]\n",
        "X_train, X_test, y_train, y_test = train_test_split(X, y, test_size=0.2, random_state=42)"
      ],
      "metadata": {
        "id": "HjUElcbYpMQF"
      },
      "execution_count": null,
      "outputs": []
    },
    {
      "cell_type": "markdown",
      "source": [
        "fit the logistic regression model, save the predictions on a test set into a variable *y_pred*"
      ],
      "metadata": {
        "id": "xSrtMweqpMhU"
      }
    },
    {
      "cell_type": "code",
      "source": [
        "model = LogisticRegression(random_state=42)\n",
        "model.fit(X_train, y_train)\n",
        "y_pred = model.predict(X_test)"
      ],
      "metadata": {
        "id": "0xtRoNrhpRkR"
      },
      "execution_count": null,
      "outputs": []
    },
    {
      "cell_type": "markdown",
      "source": [
        "Use classification_report to find the f-1 score of your model <br>\n",
        "Try to get f1-score above 0.85 (use different 3 features or mess with model parameters), use random seed so it is reproducible"
      ],
      "metadata": {
        "id": "13-VJVIIpTyi"
      }
    },
    {
      "cell_type": "code",
      "source": [
        "report = classification_report(y_test, y_pred)\n",
        "print(report)"
      ],
      "metadata": {
        "id": "i4F1W6ntpYA0"
      },
      "execution_count": null,
      "outputs": []
    }
  ]
}