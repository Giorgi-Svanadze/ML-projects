{
  "cells": [
    {
      "cell_type": "code",
      "execution_count": 1,
      "metadata": {
        "id": "n7TEbR1MFQub"
      },
      "outputs": [],
      "source": [
        "# Import necessary libraries: torch, torchvision, matplotlib, numpy.\n",
        "# or any other you may find necessary\n",
        "# Part 1: Import necessary libraries\n",
        "\n",
        "import torch\n",
        "import torchvision\n",
        "from torchvision import transforms\n",
        "from torch.utils.data import DataLoader\n",
        "import matplotlib.pyplot as plt\n",
        "import numpy as np"
      ]
    },
    {
      "cell_type": "code",
      "execution_count": 17,
      "metadata": {
        "id": "SGg1RSFtGiPG"
      },
      "outputs": [
        {
          "data": {
            "image/png": "[encoded data removed]",
            "text/plain": [
              "<Figure size 640x480 with 1 Axes>"
            ]
          },
          "metadata": {},
          "output_type": "display_data"
        },
        {
          "name": "stdout",
          "output_type": "stream",
          "text": [
            "Labels:      4     2     1     0\n"
          ]
        }
      ],
      "source": [
        "# Load and Visualize the MNIST Dataset\n",
        "# Use torchvision.datasets to load the MNIST dataset.\n",
        "# Preprocess the Data\n",
        "# Normalize the images (Hint: torchvision.transforms can be used for this).\n",
        "# Split the dataset into training and testing sets.\n",
        "# Create data loaders for training and testing sets (Hint: torch.utils.data.DataLoader).\n",
        "# Use matplotlib to visualize some samples from the dataset.\n",
        "\n",
        "transform = transforms.Compose([transforms.ToTensor(), transforms.Normalize((0.5,), (0.5,))])\n",
        "train_set = torchvision.datasets.MNIST(root='./data', train=True, download=True, transform=transform)\n",
        "test_set = torchvision.datasets.MNIST(root='./data', train=False, download=True, transform=transform)\n",
        "train_loader = DataLoader(train_set, batch_size=4, shuffle=True)\n",
        "test_loader = DataLoader(test_set, batch_size=4, shuffle=False)\n",
        "dataiter = iter(train_loader)\n",
        "images, labels = next(dataiter)\n",
        "def imshow(img):\n",
        "    img = img / 2 + 0.5\n",
        "    npimg = img.numpy()\n",
        "    plt.imshow(np.transpose(npimg, (1, 2, 0)))\n",
        "    plt.show()\n",
        "imshow(torchvision.utils.make_grid(images))\n",
        "print('Labels: ', ' '.join('%5s' % labels[j].item() for j in range(4)))"
      ]
    },
    {
      "cell_type": "code",
      "execution_count": 18,
      "metadata": {
        "id": "_TOrPLFJGwxo"
      },
      "outputs": [],
      "source": [
        "# Define the Neural Network\n",
        "# Define a class for your neural network model that extends torch.nn.Module.\n",
        "# Implement the __init__() and forward() methods.\n",
        "\n",
        "class NN(torch.nn.Module):\n",
        "    def __init__(self):\n",
        "        super(NN, self).__init__()\n",
        "        self.fc1 = torch.nn.Linear(28 * 28, 128)\n",
        "        self.relu = torch.nn.ReLU()\n",
        "        self.fc2 = torch.nn.Linear(128, 10)\n",
        "    def forward(self, x):\n",
        "        x = x.view(-1, 28 * 28)\n",
        "        x = self.fc1(x)\n",
        "        x = self.relu(x)\n",
        "        x = self.fc2(x)\n",
        "        return x\n",
        "model = NN()"
      ]
    },
    {
      "cell_type": "code",
      "execution_count": 19,
      "metadata": {
        "id": "4LptiloxG3Fb"
      },
      "outputs": [],
      "source": [
        "# Define the Loss Function and Optimizer\n",
        "# Use torch.nn.CrossEntropyLoss() as your loss function.\n",
        "# Use torch.optim.SGD() or torch.optim.Adam() as your optimizer.\n",
        "\n",
        "criterion = torch.nn.CrossEntropyLoss()\n",
        "optimizer = torch.optim.SGD(model.parameters(), lr=0.001)"
      ]
    },
    {
      "cell_type": "code",
      "execution_count": 23,
      "metadata": {
        "id": "NbFz7ko8G9mB"
      },
      "outputs": [
        {
          "name": "stdout",
          "output_type": "stream",
          "text": [
            "Epoch 1, Loss: 0.19057141189619822, Accuracy: 94.62%\n",
            "Epoch 2, Loss: 0.17598676743659694, Accuracy: 94.96%\n",
            "Epoch 3, Loss: 0.1633703704886323, Accuracy: 95.32%\n",
            "Epoch 4, Loss: 0.15208085170823227, Accuracy: 95.615%\n",
            "Epoch 5, Loss: 0.1424307335948882, Accuracy: 95.89333333333333%\n"
          ]
        }
      ],
      "source": [
        "# Train the Neural Network\n",
        "# Implement a training loop that includes both forward and backward passes and updates model parameters.\n",
        "# Print out training loss and accuracy at each epoch.\n",
        "\n",
        "for epoch in range(5):\n",
        "    running_loss = 0.0\n",
        "    correct = 0\n",
        "    total = 0\n",
        "    for i, data in enumerate(train_loader, 0):\n",
        "        inputs, labels = data\n",
        "        optimizer.zero_grad()\n",
        "        outputs = model(inputs)\n",
        "        loss = criterion(outputs, labels)\n",
        "        loss.backward()\n",
        "        optimizer.step()\n",
        "        running_loss += loss.item()\n",
        "        _, predicted = torch.max(outputs.data, 1)\n",
        "        total += labels.size(0)\n",
        "        correct += (predicted == labels).sum().item()\n",
        "    print(f'Epoch {epoch + 1}, Loss: {running_loss / len(train_loader)}, Accuracy: {100 * correct / total}%')"
      ]
    },
    {
      "cell_type": "code",
      "execution_count": 24,
      "metadata": {
        "id": "u0jLuUcqHGxl"
      },
      "outputs": [
        {
          "name": "stdout",
          "output_type": "stream",
          "text": [
            "Test Accuracy: 95.49%\n"
          ]
        }
      ],
      "source": [
        "# Evaluate your model on the test set and print out the test accuracy.\n",
        "\n",
        "correct = 0\n",
        "total = 0\n",
        "with torch.no_grad():\n",
        "    for data in test_loader:\n",
        "        inputs, labels = data\n",
        "        outputs = model(inputs)\n",
        "        _, predicted = torch.max(outputs.data, 1)\n",
        "        total += labels.size(0)\n",
        "        correct += (predicted == labels).sum().item()\n",
        "\n",
        "print(f'Test Accuracy: {100 * correct / total}%')"
      ]
    }
  ],
  "metadata": {
    "colab": {
      "provenance": []
    },
    "kernelspec": {
      "display_name": "Python 3",
      "name": "python3"
    },
    "language_info": {
      "codemirror_mode": {
        "name": "ipython",
        "version": 3
      },
      "file_extension": ".py",
      "mimetype": "text/x-python",
      "name": "python",
      "nbconvert_exporter": "python",
      "pygments_lexer": "ipython3",
      "version": "3.10.4"
    }
  },
  "nbformat": 4,
  "nbformat_minor": 0
}
