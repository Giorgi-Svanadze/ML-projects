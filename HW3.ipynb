{
  "cells": [
    {
      "cell_type": "markdown",
      "metadata": {
        "id": "BYPifVeFNLFu"
      },
      "source": [
        "Change 'lastname' of the file name to your lastname (5p)"
      ]
    },
    {
      "cell_type": "markdown",
      "metadata": {
        "id": "Cx7onrW9NZoY"
      },
      "source": [
        "Run the cell below to generate data. Do NOT modify it. (5p)"
      ]
    },
    {
      "cell_type": "code",
      "execution_count": 1,
      "metadata": {
        "id": "DRSWCMoMGz4z"
      },
      "outputs": [],
      "source": [
        "import sklearn as sk\n",
        "from sklearn.datasets import make_classification\n",
        "from sklearn.model_selection import train_test_split\n",
        "\n",
        "X, y = make_classification(2500, n_informative=4, n_classes=3, random_state=42)\n",
        "X_train, X_test, y_train, y_test = train_test_split(X, y, test_size=0.2, random_state=42)"
      ]
    },
    {
      "cell_type": "markdown",
      "metadata": {
        "id": "XjEn9oNqJMB7"
      },
      "source": [
        "Use *X_train* and *y_train* for [GridSearchCV](https://scikit-learn.org/stable/modules/generated/sklearn.model_selection.GridSearchCV.html) with cv=10 to find whether the criterion 'gini' or 'entropy' works better for the [Deicision tree](https://scikit-learn.org/stable/modules/generated/sklearn.tree.DecisionTreeClassifier.html) on this dataset. \n",
        "Display the winner using *best_params_* and its score using *best_score_* (30p)"
      ]
    },
    {
      "cell_type": "code",
      "execution_count": 2,
      "metadata": {
        "id": "jPdSFNuRG24e"
      },
      "outputs": [
        {
          "name": "stdout",
          "output_type": "stream",
          "text": [
            "Best Parameters:  {'criterion': 'entropy'}\n",
            "Best Score:  0.7725\n"
          ]
        }
      ],
      "source": [
        "from sklearn.tree import DecisionTreeClassifier\n",
        "from sklearn.model_selection import GridSearchCV\n",
        "\n",
        "dt_classifier = DecisionTreeClassifier(random_state=42)\n",
        "param_grid = {'criterion': ['gini', 'entropy']}\n",
        "grid_search = GridSearchCV(dt_classifier, param_grid, cv=10, n_jobs=-1)\n",
        "grid_search.fit(X_train, y_train)\n",
        "print(\"Best Parameters: \", grid_search.best_params_)\n",
        "print(\"Best Score: \", grid_search.best_score_)"
      ]
    },
    {
      "cell_type": "markdown",
      "metadata": {
        "id": "GrwMMjoTTJY3"
      },
      "source": [
        "Use a [BaggingClassifier](https://scikit-learn.org/stable/modules/generated/sklearn.ensemble.BaggingClassifier.html)  of seven [1-Nearest-Neighbors](https://scikit-learn.org/stable/modules/generated/sklearn.neighbors.KNeighborsClassifier.html) and train on the training data.\n",
        "Display the [f1 weighted score](https://scikit-learn.org/stable/modules/generated/sklearn.metrics.f1_score.html) on the test set. (30p)"
      ]
    },
    {
      "cell_type": "code",
      "execution_count": 3,
      "metadata": {
        "id": "IPtdqciPLScw"
      },
      "outputs": [
        {
          "name": "stdout",
          "output_type": "stream",
          "text": [
            "F1 Weighted Score for BaggingClassifier: 0.68\n"
          ]
        }
      ],
      "source": [
        "from sklearn.ensemble import BaggingClassifier, RandomForestClassifier\n",
        "from sklearn.neighbors import KNeighborsClassifier\n",
        "from sklearn.metrics import f1_score\n",
        "\n",
        "knn_classifier = KNeighborsClassifier(n_neighbors=1)\n",
        "bagging_classifier = BaggingClassifier(estimator=knn_classifier, n_estimators=7, random_state=42)\n",
        "bagging_classifier.fit(X_train, y_train)\n",
        "y_pred = bagging_classifier.predict(X_test)\n",
        "f1_weighted_score = f1_score(y_test, y_pred, average='weighted')\n",
        "print(\"F1 Weighted Score for BaggingClassifier: {:.2f}\".format(f1_weighted_score))\n",
        "rf_classifier = RandomForestClassifier(random_state=42)\n",
        "rf_classifier.fit(X_train, y_train)\n",
        "y_rf_pred = rf_classifier.predict(X_test)"
      ]
    }
  ],
  "metadata": {
    "colab": {
      "collapsed_sections": [],
      "provenance": []
    },
    "kernelspec": {
      "display_name": "Python 3",
      "name": "python3"
    },
    "language_info": {
      "codemirror_mode": {
        "name": "ipython",
        "version": 3
      },
      "file_extension": ".py",
      "mimetype": "text/x-python",
      "name": "python",
      "nbconvert_exporter": "python",
      "pygments_lexer": "ipython3",
      "version": "3.10.4"
    }
  },
  "nbformat": 4,
  "nbformat_minor": 0
}
