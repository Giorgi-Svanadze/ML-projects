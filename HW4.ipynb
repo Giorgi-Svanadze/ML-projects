{
  "cells": [
    {
      "cell_type": "code",
      "execution_count": 1,
      "metadata": {
        "id": "hTXxWI7W6ac7"
      },
      "outputs": [],
      "source": [
        "from sklearn.datasets import load_digits\n",
        "from sklearn.model_selection import train_test_split\n",
        "from sklearn.svm import SVC\n",
        "from sklearn.model_selection import GridSearchCV\n",
        "digits = load_digits()"
      ]
    },
    {
      "cell_type": "markdown",
      "metadata": {
        "id": "I9DI74qT6iCC"
      },
      "source": [
        "train-test-split the above data to prepare for training. Then use sklearn support vector classifier to fit the SVM. **make sure to experiment with at least two different parameters in grid-search with 5-fold CV.** print out the best parameters and report the accuracy score on test set (you can use the metric of your choice)."
      ]
    },
    {
      "cell_type": "code",
      "execution_count": 2,
      "metadata": {
        "id": "9JNAaN507YeK"
      },
      "outputs": [
        {
          "name": "stdout",
          "output_type": "stream",
          "text": [
            "Best Parameters:  {'C': 10, 'kernel': 'rbf'}\n",
            "Test Set Accuracy: 98.61%\n"
          ]
        }
      ],
      "source": [
        "X = digits.data\n",
        "y = digits.target\n",
        "X_train, X_test, y_train, y_test = train_test_split(X, y, test_size=0.2, random_state=42)\n",
        "param_grid = {\n",
        "    'C': [0.1, 1, 10],\n",
        "    'kernel': ['linear', 'rbf']\n",
        "}\n",
        "svm = SVC()\n",
        "grid_search = GridSearchCV(svm, param_grid, cv=5)\n",
        "grid_search.fit(X_train, y_train)\n",
        "print(\"Best Parameters: \", grid_search.best_params_)\n",
        "best_svm = grid_search.best_estimator_\n",
        "best_svm.fit(X_train, y_train)\n",
        "test_accuracy = best_svm.score(X_test, y_test)\n",
        "print(\"Test Set Accuracy: {:.2f}%\".format(test_accuracy * 100))"
      ]
    }
  ],
  "metadata": {
    "colab": {
      "provenance": []
    },
    "kernelspec": {
      "display_name": "Python 3",
      "name": "python3"
    },
    "language_info": {
      "codemirror_mode": {
        "name": "ipython",
        "version": 3
      },
      "file_extension": ".py",
      "mimetype": "text/x-python",
      "name": "python",
      "nbconvert_exporter": "python",
      "pygments_lexer": "ipython3",
      "version": "3.10.4"
    }
  },
  "nbformat": 4,
  "nbformat_minor": 0
}
